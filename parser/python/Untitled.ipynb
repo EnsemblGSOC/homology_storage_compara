{
 "cells": [
  {
   "cell_type": "code",
   "execution_count": 2,
   "id": "2c2a01de-5b58-4ff5-b1fb-34ac73ce9f8a",
   "metadata": {},
   "outputs": [],
   "source": [
    "from typing import List, Dict, Tuple, Union, Any\n",
    "\n",
    "class IntervalTree:\n",
    "    def __init__(self, left, right, mid, intervals):\n",
    "        self.left = left\n",
    "        self.right = right\n",
    "        self.mid = mid\n",
    "        self.intervals = intervals\n",
    "        \n",
    "        self.intervals_leftsorted = sorted(intervals, key=lambda x: x[0])\n",
    "        self.intervals_rightsorted = sorted(intervals, key=lambda x: x[1])\n",
    "    \n",
    "    def height(self):\n",
    "        def height_rec(t):\n",
    "            if not t:\n",
    "                return 0\n",
    "            else:\n",
    "                return 1 + max(height_rec(t.left), height_rec(t.right))\n",
    "        return height_rec(self)\n",
    "    \n",
    "    def print_tree(self, width=64):\n",
    "        height = self.height()\n",
    "        nodes  = [(self, 0)]\n",
    "        prev_level = 0\n",
    "        repr_str = ''\n",
    "        while nodes:\n",
    "            n,level = nodes.pop(0)\n",
    "            if prev_level != level:\n",
    "                prev_level = level\n",
    "                repr_str += '\\n'\n",
    "            if not n:\n",
    "                if level < height-1:\n",
    "                    nodes.extend([(None, level+1), (None, level+1)])\n",
    "                repr_str += '{val:^{width}}'.format(val='-', width=width//2**level)\n",
    "            elif n:\n",
    "                if n.left or level < height-1:\n",
    "                    nodes.append((n.left, level+1))\n",
    "                if n.right or level < height-1:\n",
    "                    nodes.append((n.right, level+1))\n",
    "                repr_str += '{val:^{width}}'.format(val=str(n.intervals) + \", \" + str(n.mid), width=width//2**level)\n",
    "        print(repr_str)\n",
    "        \n",
    "    def search(self, x):\n",
    "        if x == self.mid:\n",
    "            return self.intervals\n",
    "        if x < self.mid:\n",
    "            # search in left subtree\n",
    "            intervals = []\n",
    "            if self.left:\n",
    "                intervals += self.left.search(x)\n",
    "            for i in self.intervals_leftsorted:\n",
    "                if i[0] <= x:\n",
    "                    intervals.append(i)\n",
    "                else:\n",
    "                    break\n",
    "            return intervals\n",
    "        if x > self.mid:\n",
    "            intervals = []\n",
    "            if self.right:\n",
    "                intervals += self.right.search(x)\n",
    "            for i in self.intervals_rightsorted[::-1]:\n",
    "                if i[1] >= x:\n",
    "                    intervals.append(i)\n",
    "                else:\n",
    "                    break\n",
    "            return intervals\n",
    "\n",
    "        \n",
    "def construct_interval_tree(intervals: List[Tuple]):\n",
    "    left, right = min([x[0] for x in intervals]), max([x[1] for x in intervals])\n",
    "    mid = (left + right) // 2\n",
    "    overlapping_intervals = [x for x in intervals if (x[0] <= mid and x[1] >= mid)]\n",
    "    left_intervals = [x for x in intervals if x[1] < mid]\n",
    "    right_intervals = [x for x in intervals if x[0] > mid]\n",
    "    left_subtree = None\n",
    "    right_subtree = None\n",
    "    if left_intervals:\n",
    "        left_subtree = construct_interval_tree(left_intervals)\n",
    "    if right_intervals:\n",
    "        right_subtree = construct_interval_tree(right_intervals)\n",
    "    return IntervalTree(left_subtree, right_subtree, mid, overlapping_intervals)"
   ]
  },
  {
   "cell_type": "code",
   "execution_count": 88,
   "id": "8b8107d8-1a30-450a-9bd4-e9fd0ad0c937",
   "metadata": {},
   "outputs": [
    {
     "name": "stdout",
     "output_type": "stream",
     "text": [
      "          [(4, 9), (4, 7), (4, 6), (4, 5), (0, 9)], 4           \n",
      "      [(0, 3), (0, 1)], 1                 [(8, 9)], 8           \n",
      "       -          [(2, 3)], 2          -               -        \n"
     ]
    }
   ],
   "source": [
    "test_tree = construct_interval_tree([(0, 3), (4, 9), (0, 1), (2, 3), (4, 7), (8, 9), (4, 6), (4, 5), (0, 9)])\n",
    "test_tree.print_tree()"
   ]
  },
  {
   "cell_type": "code",
   "execution_count": 89,
   "id": "a5a0d0e8-9f27-4cf1-b486-d80588008ba4",
   "metadata": {},
   "outputs": [
    {
     "data": {
      "text/plain": [
       "[(4, 9), (4, 7), (4, 6), (4, 5), (0, 9)]"
      ]
     },
     "execution_count": 89,
     "metadata": {},
     "output_type": "execute_result"
    }
   ],
   "source": [
    "test_tree.search(4)"
   ]
  },
  {
   "cell_type": "code",
   "execution_count": 18,
   "id": "ec429d40-66cd-4d8d-afa5-efb1913f99f8",
   "metadata": {},
   "outputs": [],
   "source": [
    "import bisect\n",
    "\n",
    "def exclude_intervals(interval, excluded: List[Tuple]):\n",
    "    l = interval[0]\n",
    "    r = interval[1]\n",
    "    excluded = sorted(excluded)\n",
    "    new_intervals = []\n",
    "    start = bisect.bisect_left([x[0] for x in excluded], l)\n",
    "    end = bisect.bisect_left([x[0] for x in excluded], r)\n",
    "    # discard intervals that do not overlap with the input interval\n",
    "    excluded = excluded[start:end]\n",
    "    # trim the starting and ending points of the intervals\n",
    "    if excluded[0][0] < l:\n",
    "        excluded[0][0] = l \n",
    "    if excluded[-1][1] > r:\n",
    "        excluded[-1][1] = r\n",
    "    # include the first gap, if any\n",
    "    if l < excluded[0][0]:\n",
    "        new_intervals.append((l, excluded[0][0]))\n",
    "    curr = excluded[0][1]\n",
    "    for x in excluded[1:]:\n",
    "        # there is a gap between the current position and the lhs\n",
    "        # of the next interval\n",
    "        if curr < x[0]:\n",
    "            new_intervals.append((curr, x[0]))\n",
    "            curr = x[1]\n",
    "        elif curr < x[1]:\n",
    "            curr = x[1]\n",
    "    # include the last gap, if any\n",
    "    if r > excluded[-1][1]:\n",
    "        new_intervals.append((excluded[-1][1], curr))\n",
    "    return new_intervals"
   ]
  },
  {
   "cell_type": "code",
   "execution_count": 19,
   "id": "1394aeab-9215-4174-9645-d010a56a0425",
   "metadata": {},
   "outputs": [
    {
     "data": {
      "text/plain": [
       "[]"
      ]
     },
     "execution_count": 30,
     "metadata": {},
     "output_type": "execute_result"
    }
   ],
   "source": [
    "exclude_intervals((0, 9), [(2, 3), (0, 2), (3, 3)])"
   ]
  },
  {
   "cell_type": "code",
   "execution_count": null,
   "id": "11db0813-6382-4c44-8098-9243a6333360",
   "metadata": {},
   "outputs": [],
   "source": [
    "def delete_blocks_from_interval(range_start, range_end, blocks):\n",
    "    blocks = sorted(blocks)\n",
    "\n",
    "    # check if the interval overlaps with blocks,\n",
    "    # if so, truncate the block lists, reset end points if required\n",
    "    start_idx = bisect.bisect_left([b[0] for b in blocks],range_start)\n",
    "    end_idx = bisect.bisect_left([b[0] for b in blocks],range_end)\n",
    "    blocks = blocks[start_idx:end_idx]\n",
    "    if blocks[0][0] < range_start:\n",
    "        blocks[0][0] = range_start \n",
    "    if blocks[-1][1] > range_end:\n",
    "        blocks[-1][1] = range_end\n",
    "\n",
    "    # emit the first gap, if any\n",
    "    if range_start < blocks[0][0]:\n",
    "        yield (range_start, blocks[0][0])\n",
    "\n",
    "    # loop through till the end of the blocks\n",
    "    end = blocks[0][1]\n",
    "    for block in blocks[1:]:\n",
    "        if end < block[0]:\n",
    "            yield (end, block[0])\n",
    "            end = block[1]\n",
    "        elif end < block[1]:\n",
    "            end = block[1]\n",
    "\n",
    "    # emit the last gap, if any\n",
    "    if range_end > blocks[-1][1]:\n",
    "        yield (blocks[-1][1], range_end)\n",
    "\n",
    "blocks = sorted([(9, 11), (9, 12), (9, 13), (7, 13), (7, 21), (2, 21), (0, 21)])\n",
    "list(delete_blocks_from_interval(0, 25, blocks))"
   ]
  },
  {
   "cell_type": "code",
   "execution_count": 50,
   "id": "d04f6993-7831-4f88-a5cf-2a25dec00380",
   "metadata": {},
   "outputs": [
    {
     "data": {
      "text/plain": [
       "[(0, 0)]"
      ]
     },
     "execution_count": 50,
     "metadata": {},
     "output_type": "execute_result"
    }
   ],
   "source": [
    "def delete_blocks_from_interval(a, b, blocks):\n",
    "    sorted_blocks = sorted(blocks)\n",
    "    for i, (c, d) in enumerate(sorted_blocks):\n",
    "        if a <= c <= b:\n",
    "            yield (a, c)\n",
    "            if d > a:\n",
    "                a = d\n",
    "            for (e, f) in sorted_blocks[i + 1:]:\n",
    "                if e <= a <= f:\n",
    "                    a = f\n",
    "                elif e > a:\n",
    "                    break\n",
    "    if a <= d <= b:\n",
    "        yield (d, b)\n",
    "blocks = sorted([(9, 11), (9, 12), (9, 13), (7, 13), (7, 21), (2, 21), (0, 21)])\n",
    "list(delete_blocks_from_interval(0, 25, blocks))"
   ]
  },
  {
   "cell_type": "code",
   "execution_count": null,
   "id": "dd4885eb-c54e-458f-9b90-8abdaf878017",
   "metadata": {},
   "outputs": [],
   "source": []
  },
  {
   "cell_type": "code",
   "execution_count": 1,
   "id": "416f84fa-82c8-4dcb-82c9-8b4df72b32d3",
   "metadata": {},
   "outputs": [
    {
     "name": "stdout",
     "output_type": "stream",
     "text": [
      "Collecting mysql.connector\n",
      "  Using cached mysql-connector-2.2.9.tar.gz (11.9 MB)\n",
      "  Preparing metadata (setup.py) ... \u001b[?25ldone\n",
      "\u001b[?25hBuilding wheels for collected packages: mysql.connector\n",
      "  Building wheel for mysql.connector (setup.py) ... \u001b[?25ldone\n",
      "\u001b[?25h  Created wheel for mysql.connector: filename=mysql_connector-2.2.9-cp39-cp39-macosx_12_0_arm64.whl size=247970 sha256=215359a99a6a8b1d6680427dd07d294077f1b1d1dbaa260da166c72238f9a172\n",
      "  Stored in directory: /Users/kevingaojx/Library/Caches/pip/wheels/7b/14/39/5aad423666e827dfe9a1fbcd111ac17171e7c9865d570780ce\n",
      "Successfully built mysql.connector\n",
      "Installing collected packages: mysql.connector\n",
      "Successfully installed mysql.connector-2.2.9\n",
      "\u001b[33mWARNING: You are using pip version 21.3.1; however, version 22.1.2 is available.\n",
      "You should consider upgrading via the '/opt/homebrew/Cellar/jupyterlab/3.3.2/libexec/bin/python3.9 -m pip install --upgrade pip' command.\u001b[0m\n",
      "Note: you may need to restart the kernel to use updated packages.\n"
     ]
    }
   ],
   "source": [
    "%pip install mysql.connector"
   ]
  },
  {
   "cell_type": "code",
   "execution_count": 88,
   "id": "21f291f7-1d8d-4830-a7e7-7ac7f3b4967c",
   "metadata": {},
   "outputs": [],
   "source": [
    "import mysql.connector\n",
    "\n",
    "db = mysql.connector.connect(\n",
    "    host=\"useastdb.ensembl.org\",\n",
    "    user=\"anonymous\",\n",
    "    database=\"ensembl_compara_107\",\n",
    "    connect_timeout=28800\n",
    ")\n",
    "\n",
    "cursor = db.cursor()"
   ]
  },
  {
   "cell_type": "code",
   "execution_count": 89,
   "id": "a66a0b4d-33ca-4558-a14f-acfcee56a728",
   "metadata": {},
   "outputs": [],
   "source": [
    "def build_select_query(conditions, columns, table):\n",
    "    scaffold = \"SELECT {} FROM {} WHERE ({});\"\n",
    "    conditions_str = \" AND \".join(conditions)\n",
    "    columns_str = \", \".join(columns)\n",
    "    return scaffold.format(columns_str, table, conditions_str)"
   ]
  },
  {
   "cell_type": "code",
   "execution_count": 93,
   "id": "9791286e-9efe-4f9e-8d03-dc18192118be",
   "metadata": {},
   "outputs": [],
   "source": [
    "cursor.execute(\"SET @seqid = (SELECT canonical_member_id FROM gene_member WHERE stable_id = 'ENSG00000182463')\");\n",
    "cursor.execute(\"SELECT * FROM homology_member WHERE homology_id IN (SELECT hm.homology_id FROM homology_member hm LEFT JOIN homology h ON h.homology_id = hm.homology_id WHERE hm.seq_member_id = @seqid AND description LIKE 'ortholog_one2one') AND seq_member_id <> @seqid;\")\n",
    "one_to_one = cursor.fetchall()\n",
    "cursor.execute(\"SELECT * FROM homology_member WHERE homology_id IN (SELECT hm.homology_id FROM homology_member hm LEFT JOIN homology h ON h.homology_id = hm.homology_id WHERE hm.seq_member_id = @seqid AND description LIKE 'ortholog_many2many') AND seq_member_id <> @seqid;\")\n",
    "one_to_many = cursor.fetchall()"
   ]
  },
  {
   "cell_type": "code",
   "execution_count": 94,
   "id": "c5ce9b66-09aa-4156-9be1-28cffd8f521f",
   "metadata": {},
   "outputs": [
    {
     "name": "stdout",
     "output_type": "stream",
     "text": [
      "2\n"
     ]
    }
   ],
   "source": [
    "print(len(one_to_many))"
   ]
  },
  {
   "cell_type": "code",
   "execution_count": 47,
   "id": "d625396a-eca4-4a5c-9bb4-2a7d883be318",
   "metadata": {},
   "outputs": [
    {
     "data": {
      "text/plain": [
       "[('node_id', 3, None, None, None, None, 0, 16931),\n",
       " ('parent_id', 3, None, None, None, None, 1, 16424),\n",
       " ('root_id', 3, None, None, None, None, 1, 16424),\n",
       " ('left_index', 3, None, None, None, None, 0, 16417),\n",
       " ('right_index', 3, None, None, None, None, 0, 33),\n",
       " ('distance_to_parent', 5, None, None, None, None, 0, 1),\n",
       " ('seq_member_id', 3, None, None, None, None, 1, 16424)]"
      ]
     },
     "execution_count": 47,
     "metadata": {},
     "output_type": "execute_result"
    }
   ],
   "source": [
    "cursor.description"
   ]
  },
  {
   "cell_type": "code",
   "execution_count": null,
   "id": "d29bfef1-7b98-4c45-b2eb-fb0efd813488",
   "metadata": {},
   "outputs": [],
   "source": []
  }
 ],
 "metadata": {
  "kernelspec": {
   "display_name": "Python 3 (ipykernel)",
   "language": "python",
   "name": "python3"
  },
  "language_info": {
   "codemirror_mode": {
    "name": "ipython",
    "version": 3
   },
   "file_extension": ".py",
   "mimetype": "text/x-python",
   "name": "python",
   "nbconvert_exporter": "python",
   "pygments_lexer": "ipython3",
   "version": "3.9.13"
  }
 },
 "nbformat": 4,
 "nbformat_minor": 5
}
